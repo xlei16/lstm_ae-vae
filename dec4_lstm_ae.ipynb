{
  "nbformat": 4,
  "nbformat_minor": 0,
  "metadata": {
    "colab": {
      "provenance": []
    },
    "kernelspec": {
      "name": "python3",
      "display_name": "Python 3"
    },
    "language_info": {
      "name": "python"
    }
  },
  "cells": [
    {
      "cell_type": "code",
      "source": [
        "import pandas as pd\n",
        "import numpy as np\n",
        "import matplotlib.pyplot as plt\n",
        "from sklearn.model_selection import train_test_split\n",
        "from numpy.random import seed\n",
        "from sklearn.preprocessing import StandardScaler\n",
        "from keras import optimizers, Sequential\n",
        "from keras.layers import Dense, LSTM, RepeatVector, TimeDistributed\n",
        "from sklearn.metrics import confusion_matrix, precision_recall_curve\n",
        "import seaborn as sns\n",
        "from keras.layers import Dropout\n",
        "from keras.callbacks import EarlyStopping"
      ],
      "metadata": {
        "id": "U6IawBOFdSzr"
      },
      "execution_count": null,
      "outputs": []
    },
    {
      "cell_type": "code",
      "source": [],
      "metadata": {
        "id": "DcTZDCfk8A40"
      },
      "execution_count": null,
      "outputs": []
    },
    {
      "cell_type": "code",
      "source": [
        "seed(111)            # numpy # 7\n",
        "SEED = 111           # train_test_split()\n",
        "DATA_SPLIT_PCT = 0.3 # train_test_split()\n",
        "epochs = 100         \n",
        "batch = 16\n",
        "lr = 3e-4            # Karpathy Constant"
      ],
      "metadata": {
        "id": "nuKICtyLroTp"
      },
      "execution_count": null,
      "outputs": []
    },
    {
      "cell_type": "code",
      "execution_count": null,
      "metadata": {
        "id": "Lj7tndljdJqU"
      },
      "outputs": [],
      "source": [
        "raw_data = pd.read_csv(\"https://drive.google.com/uc?export=download&id=1TjBvV9-L8BP565uEQvI32Z4Tzc8lp41m\")"
      ]
    },
    {
      "cell_type": "markdown",
      "source": [
        "# 0.run"
      ],
      "metadata": {
        "id": "Awy8636Xfd9K"
      }
    },
    {
      "cell_type": "code",
      "source": [
        "df = raw_data.copy()"
      ],
      "metadata": {
        "id": "uXmCMD85pfhm"
      },
      "execution_count": null,
      "outputs": []
    },
    {
      "cell_type": "code",
      "source": [
        "df.drop(columns={\"Unnamed: 0\"}, inplace = True) # drop date column\n",
        "df.drop(columns={\"52_XHCC90\"},  inplace = True) # drop target column \n",
        "df.rename(columns={\"Anomaly\": \"y\"}, inplace = True) # name anomaly as y\n",
        "df.tail(n = 1)"
      ],
      "metadata": {
        "colab": {
          "base_uri": "https://localhost:8080/",
          "height": 81
        },
        "id": "LFcpUc8ndV0f",
        "outputId": "23649f33-0e1d-4344-b0a2-8dc8d12f00ae"
      },
      "execution_count": null,
      "outputs": [
        {
          "output_type": "execute_result",
          "data": {
            "text/plain": [
              "          52TI766    52PI250  52FC231     52TI737  52FC1127    52TI878  \\\n",
              "58717  390.953125  21.305176  9.96875  123.023733  5.356079  80.148438   \n",
              "\n",
              "          52TI735     52FR235  52FC133  52FC1143  y  \n",
              "58717  381.683853  371.074497  7590.25  1293.875  0  "
            ],
            "text/html": [
              "\n",
              "  <div id=\"df-1a713eb9-dd95-4a6d-8b8f-8aa1f5e3954f\">\n",
              "    <div class=\"colab-df-container\">\n",
              "      <div>\n",
              "<style scoped>\n",
              "    .dataframe tbody tr th:only-of-type {\n",
              "        vertical-align: middle;\n",
              "    }\n",
              "\n",
              "    .dataframe tbody tr th {\n",
              "        vertical-align: top;\n",
              "    }\n",
              "\n",
              "    .dataframe thead th {\n",
              "        text-align: right;\n",
              "    }\n",
              "</style>\n",
              "<table border=\"1\" class=\"dataframe\">\n",
              "  <thead>\n",
              "    <tr style=\"text-align: right;\">\n",
              "      <th></th>\n",
              "      <th>52TI766</th>\n",
              "      <th>52PI250</th>\n",
              "      <th>52FC231</th>\n",
              "      <th>52TI737</th>\n",
              "      <th>52FC1127</th>\n",
              "      <th>52TI878</th>\n",
              "      <th>52TI735</th>\n",
              "      <th>52FR235</th>\n",
              "      <th>52FC133</th>\n",
              "      <th>52FC1143</th>\n",
              "      <th>y</th>\n",
              "    </tr>\n",
              "  </thead>\n",
              "  <tbody>\n",
              "    <tr>\n",
              "      <th>58717</th>\n",
              "      <td>390.953125</td>\n",
              "      <td>21.305176</td>\n",
              "      <td>9.96875</td>\n",
              "      <td>123.023733</td>\n",
              "      <td>5.356079</td>\n",
              "      <td>80.148438</td>\n",
              "      <td>381.683853</td>\n",
              "      <td>371.074497</td>\n",
              "      <td>7590.25</td>\n",
              "      <td>1293.875</td>\n",
              "      <td>0</td>\n",
              "    </tr>\n",
              "  </tbody>\n",
              "</table>\n",
              "</div>\n",
              "      <button class=\"colab-df-convert\" onclick=\"convertToInteractive('df-1a713eb9-dd95-4a6d-8b8f-8aa1f5e3954f')\"\n",
              "              title=\"Convert this dataframe to an interactive table.\"\n",
              "              style=\"display:none;\">\n",
              "        \n",
              "  <svg xmlns=\"http://www.w3.org/2000/svg\" height=\"24px\"viewBox=\"0 0 24 24\"\n",
              "       width=\"24px\">\n",
              "    <path d=\"M0 0h24v24H0V0z\" fill=\"none\"/>\n",
              "    <path d=\"M18.56 5.44l.94 2.06.94-2.06 2.06-.94-2.06-.94-.94-2.06-.94 2.06-2.06.94zm-11 1L8.5 8.5l.94-2.06 2.06-.94-2.06-.94L8.5 2.5l-.94 2.06-2.06.94zm10 10l.94 2.06.94-2.06 2.06-.94-2.06-.94-.94-2.06-.94 2.06-2.06.94z\"/><path d=\"M17.41 7.96l-1.37-1.37c-.4-.4-.92-.59-1.43-.59-.52 0-1.04.2-1.43.59L10.3 9.45l-7.72 7.72c-.78.78-.78 2.05 0 2.83L4 21.41c.39.39.9.59 1.41.59.51 0 1.02-.2 1.41-.59l7.78-7.78 2.81-2.81c.8-.78.8-2.07 0-2.86zM5.41 20L4 18.59l7.72-7.72 1.47 1.35L5.41 20z\"/>\n",
              "  </svg>\n",
              "      </button>\n",
              "      \n",
              "  <style>\n",
              "    .colab-df-container {\n",
              "      display:flex;\n",
              "      flex-wrap:wrap;\n",
              "      gap: 12px;\n",
              "    }\n",
              "\n",
              "    .colab-df-convert {\n",
              "      background-color: #E8F0FE;\n",
              "      border: none;\n",
              "      border-radius: 50%;\n",
              "      cursor: pointer;\n",
              "      display: none;\n",
              "      fill: #1967D2;\n",
              "      height: 32px;\n",
              "      padding: 0 0 0 0;\n",
              "      width: 32px;\n",
              "    }\n",
              "\n",
              "    .colab-df-convert:hover {\n",
              "      background-color: #E2EBFA;\n",
              "      box-shadow: 0px 1px 2px rgba(60, 64, 67, 0.3), 0px 1px 3px 1px rgba(60, 64, 67, 0.15);\n",
              "      fill: #174EA6;\n",
              "    }\n",
              "\n",
              "    [theme=dark] .colab-df-convert {\n",
              "      background-color: #3B4455;\n",
              "      fill: #D2E3FC;\n",
              "    }\n",
              "\n",
              "    [theme=dark] .colab-df-convert:hover {\n",
              "      background-color: #434B5C;\n",
              "      box-shadow: 0px 1px 3px 1px rgba(0, 0, 0, 0.15);\n",
              "      filter: drop-shadow(0px 1px 2px rgba(0, 0, 0, 0.3));\n",
              "      fill: #FFFFFF;\n",
              "    }\n",
              "  </style>\n",
              "\n",
              "      <script>\n",
              "        const buttonEl =\n",
              "          document.querySelector('#df-1a713eb9-dd95-4a6d-8b8f-8aa1f5e3954f button.colab-df-convert');\n",
              "        buttonEl.style.display =\n",
              "          google.colab.kernel.accessAllowed ? 'block' : 'none';\n",
              "\n",
              "        async function convertToInteractive(key) {\n",
              "          const element = document.querySelector('#df-1a713eb9-dd95-4a6d-8b8f-8aa1f5e3954f');\n",
              "          const dataTable =\n",
              "            await google.colab.kernel.invokeFunction('convertToInteractive',\n",
              "                                                     [key], {});\n",
              "          if (!dataTable) return;\n",
              "\n",
              "          const docLinkHtml = 'Like what you see? Visit the ' +\n",
              "            '<a target=\"_blank\" href=https://colab.research.google.com/notebooks/data_table.ipynb>data table notebook</a>'\n",
              "            + ' to learn more about interactive tables.';\n",
              "          element.innerHTML = '';\n",
              "          dataTable['output_type'] = 'display_data';\n",
              "          await google.colab.output.renderOutput(dataTable, element);\n",
              "          const docLink = document.createElement('div');\n",
              "          docLink.innerHTML = docLinkHtml;\n",
              "          element.appendChild(docLink);\n",
              "        }\n",
              "      </script>\n",
              "    </div>\n",
              "  </div>\n",
              "  "
            ]
          },
          "metadata": {},
          "execution_count": 8
        }
      ]
    },
    {
      "cell_type": "code",
      "source": [
        "sign = lambda x: (1, -1)[x < 0]\n",
        "\n",
        "def curve_shift(df, shift_by):\n",
        "    '''\n",
        "    This function will shift the binary labels in a dataframe.\n",
        "    The curve shift will be with respect to the 1s. \n",
        "    For example, if shift is -2, the following process\n",
        "    will happen: if row n is labeled as 1, then\n",
        "    - Make row (n+shift_by):(n+shift_by-1) = 1.\n",
        "    - Remove row n.\n",
        "    i.e. the labels will be shifted up to 2 rows up.\n",
        "    \n",
        "    Inputs:\n",
        "    df       A pandas dataframe with a binary labeled column. \n",
        "             This labeled column should be named as 'y'.\n",
        "    shift_by An integer denoting the number of rows to shift.\n",
        "    \n",
        "    Output\n",
        "    df       A dataframe with the binary labels shifted by shift.\n",
        "    '''\n",
        "    vector = df['y'].copy()\n",
        "    for s in range(abs(shift_by)):\n",
        "        tmp = vector.shift(sign(shift_by))\n",
        "        tmp = tmp.fillna(0)\n",
        "        vector += tmp\n",
        "    labelcol = 'y'\n",
        "    # Add vector to the df\n",
        "    df.insert(loc=0, column=labelcol+'tmp', value=vector)\n",
        "    df = df.drop(labelcol, axis=1)\n",
        "    df = df.rename(columns={labelcol+'tmp': labelcol})\n",
        "    # Make the labelcol binary\n",
        "    df.loc[df[labelcol] > 0, labelcol] = 1\n",
        "\n",
        "    return df"
      ],
      "metadata": {
        "id": "atp5civcnpHl"
      },
      "execution_count": null,
      "outputs": []
    },
    {
      "cell_type": "code",
      "source": [
        "# Shift the response column y by 3 rows \n",
        "timesteps = 3\n",
        "df = curve_shift(df, shift_by = timesteps)"
      ],
      "metadata": {
        "id": "QCPc69deipOy"
      },
      "execution_count": null,
      "outputs": []
    },
    {
      "cell_type": "code",
      "source": [
        "df[\"y\"].value_counts()"
      ],
      "metadata": {
        "colab": {
          "base_uri": "https://localhost:8080/"
        },
        "id": "yWK4e4YItf8o",
        "outputId": "fd3c08b5-151d-4004-d51b-02512df8ce72"
      },
      "execution_count": null,
      "outputs": [
        {
          "output_type": "execute_result",
          "data": {
            "text/plain": [
              "0.0    53525\n",
              "1.0     5193\n",
              "Name: y, dtype: int64"
            ]
          },
          "metadata": {},
          "execution_count": 13
        }
      ]
    },
    {
      "cell_type": "code",
      "source": [
        "input_X = df.loc[:, df.columns != 'y'].values  # converts the df to a numpy array\n",
        "input_y = df['y'].values\n",
        "\n",
        "n_features = input_X.shape[1]  # number of features"
      ],
      "metadata": {
        "id": "EjdW6Dx8qEvN"
      },
      "execution_count": null,
      "outputs": []
    },
    {
      "cell_type": "code",
      "source": [
        "def temporalize(X, y, lookback):\n",
        "    '''\n",
        "    Inputs\n",
        "    X         A 2D numpy array ordered by time of shape: \n",
        "              (n_observations x n_features)\n",
        "    y         A 1D numpy array with indexes aligned with \n",
        "              X, i.e. y[i] should correspond to X[i]. \n",
        "              Shape: n_observations.\n",
        "    lookback  The window size to look back in the past \n",
        "              records. Shape: a scalar.\n",
        "\n",
        "    Output\n",
        "    output_X  A 3D numpy array of shape: \n",
        "              ((n_observations-lookback-1) x lookback x \n",
        "              n_features)\n",
        "    output_y  A 1D array of shape: \n",
        "              (n_observations-lookback-1), aligned with X.\n",
        "    '''\n",
        "    output_X = []\n",
        "    output_y = []\n",
        "    for i in range(len(X) - lookback - 1):\n",
        "        t = []\n",
        "        for j in range(1, lookback + 1):\n",
        "            # Gather the past records upto the lookback period\n",
        "            t.append(X[[(i + j + 1)], :])\n",
        "        output_X.append(t)\n",
        "        output_y.append(y[i + lookback + 1])\n",
        "    return np.squeeze(np.array(output_X)), np.array(output_y)"
      ],
      "metadata": {
        "id": "qjY5reE_quBE"
      },
      "execution_count": null,
      "outputs": []
    },
    {
      "cell_type": "code",
      "source": [
        "# Temporalize the data\n",
        "X, y = temporalize(X = input_X, y = input_y, lookback = timesteps)"
      ],
      "metadata": {
        "id": "ZdBOq4C5qw4T"
      },
      "execution_count": null,
      "outputs": []
    },
    {
      "cell_type": "code",
      "source": [
        "X_train, X_test, y_train, y_test = train_test_split(np.array(X), np.array(y), test_size=DATA_SPLIT_PCT, random_state=SEED)\n",
        "X_train, X_valid, y_train, y_valid = train_test_split(X_train, y_train, test_size=DATA_SPLIT_PCT, random_state=SEED)"
      ],
      "metadata": {
        "id": "SOtcy_CeqyW0"
      },
      "execution_count": null,
      "outputs": []
    },
    {
      "cell_type": "code",
      "source": [
        "X_train_y0 = X_train[y_train==0]\n",
        "X_train_y1 = X_train[y_train==1]\n",
        "X_valid_y0 = X_valid[y_valid==0]\n",
        "X_valid_y1 = X_valid[y_valid==1]"
      ],
      "metadata": {
        "id": "W2NIo1m6rgzO"
      },
      "execution_count": null,
      "outputs": []
    },
    {
      "cell_type": "code",
      "source": [
        "X_train = X_train.reshape(X_train.shape[0], timesteps, n_features)\n",
        "X_train_y0 = X_train_y0.reshape(X_train_y0.shape[0], timesteps, n_features)\n",
        "X_train_y1 = X_train_y1.reshape(X_train_y1.shape[0], timesteps, n_features)\n",
        "X_valid = X_valid.reshape(X_valid.shape[0], timesteps, n_features)\n",
        "X_valid_y0 = X_valid_y0.reshape(X_valid_y0.shape[0], timesteps, n_features)\n",
        "X_valid_y1 = X_valid_y1.reshape(X_valid_y1.shape[0], timesteps, n_features)\n",
        "X_test = X_test.reshape(X_test.shape[0], timesteps, n_features)"
      ],
      "metadata": {
        "id": "kp5USAiHr8xM"
      },
      "execution_count": null,
      "outputs": []
    },
    {
      "cell_type": "code",
      "source": [
        "def flatten(X):\n",
        "    '''\n",
        "    Flatten a 3D array.\n",
        "    \n",
        "    Input\n",
        "    X            A 3D array for lstm, where the array is sample x timesteps x features.\n",
        "    \n",
        "    Output\n",
        "    flattened_X  A 2D array, sample x features.\n",
        "    '''\n",
        "    flattened_X = np.empty((X.shape[0], X.shape[2]))  # sample x features array.\n",
        "    for i in range(X.shape[0]):\n",
        "        flattened_X[i] = X[i, (X.shape[1]-1), :]\n",
        "    return(flattened_X)\n",
        "\n",
        "def scale(X, scaler):\n",
        "    '''\n",
        "    Scale 3D array.\n",
        "\n",
        "    Inputs\n",
        "    X            A 3D array for lstm, where the array is sample x timesteps x features.\n",
        "    scaler       A scaler object, e.g., sklearn.preprocessing.StandardScaler, sklearn.preprocessing.normalize\n",
        "    \n",
        "    Output\n",
        "    X            Scaled 3D array.\n",
        "    '''\n",
        "    for i in range(X.shape[0]):\n",
        "        X[i, :, :] = scaler.transform(X[i, :, :])\n",
        "        \n",
        "    return X"
      ],
      "metadata": {
        "id": "lo1SOsdmr96a"
      },
      "execution_count": null,
      "outputs": []
    },
    {
      "cell_type": "code",
      "source": [
        "# Initialize a scaler using the training data.\n",
        "scaler = StandardScaler().fit(flatten(X_train_y0))"
      ],
      "metadata": {
        "id": "JMiZdwurr_8k"
      },
      "execution_count": null,
      "outputs": []
    },
    {
      "cell_type": "code",
      "source": [
        "X_train_y0_scaled = scale(X_train_y0, scaler)"
      ],
      "metadata": {
        "id": "z14YM2TosBH5"
      },
      "execution_count": null,
      "outputs": []
    },
    {
      "cell_type": "code",
      "source": [
        "a = flatten(X_train_y0_scaled)\n",
        "print('colwise mean', np.mean(a, axis=0).round(6))\n",
        "print('colwise variance', np.var(a, axis=0))"
      ],
      "metadata": {
        "colab": {
          "base_uri": "https://localhost:8080/"
        },
        "id": "3E7XlWaQsIe9",
        "outputId": "38ae8975-4a7e-4ea7-cac1-1180e0306b90"
      },
      "execution_count": null,
      "outputs": [
        {
          "output_type": "stream",
          "name": "stdout",
          "text": [
            "colwise mean [-0. -0.  0.  0.  0.  0.  0. -0.  0. -0.]\n",
            "colwise variance [1. 1. 1. 1. 1. 1. 1. 1. 1. 1.]\n"
          ]
        }
      ]
    },
    {
      "cell_type": "code",
      "source": [
        "X_valid_scaled = scale(X_valid, scaler)\n",
        "X_valid_y0_scaled = scale(X_valid_y0, scaler)\n",
        "X_test_scaled = scale(X_test, scaler)"
      ],
      "metadata": {
        "id": "x1FoY1hvsJ58"
      },
      "execution_count": null,
      "outputs": []
    },
    {
      "cell_type": "code",
      "source": [
        "timesteps =  X_train_y0_scaled.shape[1] # equal to the lookback\n",
        "n_features =  X_train_y0_scaled.shape[2] # "
      ],
      "metadata": {
        "id": "ynYAIuItsLX9"
      },
      "execution_count": null,
      "outputs": []
    },
    {
      "cell_type": "code",
      "source": [
        "lstm_autoencoder = Sequential()\n",
        "# Encode\n",
        "lstm_autoencoder.add(LSTM(16, activation='relu', input_shape=(timesteps, n_features), return_sequences=True))\n",
        "lstm_autoencoder.add(Dropout(0.1))\n",
        "lstm_autoencoder.add(LSTM(8, activation='relu', return_sequences=False))\n",
        "\n",
        "# Decode\n",
        "lstm_autoencoder.add(RepeatVector(timesteps))\n",
        "lstm_autoencoder.add(LSTM(8, activation='relu', return_sequences=True))\n",
        "lstm_autoencoder.add(Dropout(0.1))\n",
        "lstm_autoencoder.add(LSTM(16, activation='relu', return_sequences=True))\n",
        "lstm_autoencoder.add(TimeDistributed(Dense(n_features)))\n",
        "lstm_autoencoder.summary()"
      ],
      "metadata": {
        "id": "yIaG0lVRsjJk",
        "colab": {
          "base_uri": "https://localhost:8080/"
        },
        "outputId": "4b27c677-480b-468f-9ee8-5ef8b979e294"
      },
      "execution_count": null,
      "outputs": [
        {
          "output_type": "stream",
          "name": "stdout",
          "text": [
            "Model: \"sequential\"\n",
            "_________________________________________________________________\n",
            " Layer (type)                Output Shape              Param #   \n",
            "=================================================================\n",
            " lstm (LSTM)                 (None, 3, 16)             1728      \n",
            "                                                                 \n",
            " dropout (Dropout)           (None, 3, 16)             0         \n",
            "                                                                 \n",
            " lstm_1 (LSTM)               (None, 8)                 800       \n",
            "                                                                 \n",
            " repeat_vector (RepeatVector  (None, 3, 8)             0         \n",
            " )                                                               \n",
            "                                                                 \n",
            " lstm_2 (LSTM)               (None, 3, 8)              544       \n",
            "                                                                 \n",
            " dropout_1 (Dropout)         (None, 3, 8)              0         \n",
            "                                                                 \n",
            " lstm_3 (LSTM)               (None, 3, 16)             1600      \n",
            "                                                                 \n",
            " time_distributed (TimeDistr  (None, 3, 10)            170       \n",
            " ibuted)                                                         \n",
            "                                                                 \n",
            "=================================================================\n",
            "Total params: 4,842\n",
            "Trainable params: 4,842\n",
            "Non-trainable params: 0\n",
            "_________________________________________________________________\n"
          ]
        }
      ]
    },
    {
      "cell_type": "code",
      "source": [
        "adam = optimizers.Adam(lr)\n",
        "lstm_autoencoder.compile(loss='mse', optimizer=adam)\n",
        "\n",
        "lstm_autoencoder_history = lstm_autoencoder.fit(X_train_y0_scaled, X_train_y0_scaled, \n",
        "                                                epochs=epochs, \n",
        "                                                batch_size=batch, \n",
        "                                                validation_data=(X_valid_y0_scaled, X_valid_y0_scaled),\n",
        "                                                verbose=1, \n",
        "                                                callbacks = EarlyStopping(monitor='loss', patience=5)).history"
      ],
      "metadata": {
        "id": "QMoR1d5qsvG4",
        "colab": {
          "base_uri": "https://localhost:8080/"
        },
        "outputId": "e8c6c37a-d84f-480c-de70-8eabd9c082b5"
      },
      "execution_count": null,
      "outputs": [
        {
          "output_type": "stream",
          "name": "stdout",
          "text": [
            "Epoch 1/100\n",
            "1676/1676 [==============================] - 19s 8ms/step - loss: 0.6385 - val_loss: 0.3713\n",
            "Epoch 2/100\n",
            "1676/1676 [==============================] - 18s 11ms/step - loss: 0.3522 - val_loss: 0.2580\n",
            "Epoch 3/100\n",
            "1676/1676 [==============================] - 12s 7ms/step - loss: 0.2709 - val_loss: 0.1844\n",
            "Epoch 4/100\n",
            "1676/1676 [==============================] - 12s 7ms/step - loss: 0.2247 - val_loss: 0.1545\n",
            "Epoch 5/100\n",
            "1676/1676 [==============================] - 12s 7ms/step - loss: 0.2044 - val_loss: 0.1404\n",
            "Epoch 6/100\n",
            "1676/1676 [==============================] - 12s 7ms/step - loss: 0.1903 - val_loss: 0.1245\n",
            "Epoch 7/100\n",
            "1676/1676 [==============================] - 12s 7ms/step - loss: 0.1804 - val_loss: 0.1164\n",
            "Epoch 8/100\n",
            "1676/1676 [==============================] - 12s 7ms/step - loss: 0.1722 - val_loss: 0.1097\n",
            "Epoch 9/100\n",
            "1676/1676 [==============================] - 13s 8ms/step - loss: 0.1665 - val_loss: 0.1054\n",
            "Epoch 10/100\n",
            "1676/1676 [==============================] - 12s 7ms/step - loss: 0.1599 - val_loss: 0.1021\n",
            "Epoch 11/100\n",
            "1676/1676 [==============================] - 12s 7ms/step - loss: 0.1556 - val_loss: 0.0971\n",
            "Epoch 12/100\n",
            "1676/1676 [==============================] - 12s 7ms/step - loss: 0.1522 - val_loss: 0.0937\n",
            "Epoch 13/100\n",
            "1676/1676 [==============================] - 14s 9ms/step - loss: 0.1488 - val_loss: 0.0937\n",
            "Epoch 14/100\n",
            "1676/1676 [==============================] - 12s 7ms/step - loss: 0.1451 - val_loss: 0.0906\n",
            "Epoch 15/100\n",
            "1676/1676 [==============================] - 13s 8ms/step - loss: 0.1438 - val_loss: 0.0912\n",
            "Epoch 16/100\n",
            "1676/1676 [==============================] - 14s 8ms/step - loss: 0.1409 - val_loss: 0.0891\n",
            "Epoch 17/100\n",
            "1676/1676 [==============================] - 12s 7ms/step - loss: 0.1392 - val_loss: 0.0858\n",
            "Epoch 18/100\n",
            "1676/1676 [==============================] - 12s 7ms/step - loss: 0.1373 - val_loss: 0.0855\n",
            "Epoch 19/100\n",
            "1676/1676 [==============================] - 12s 7ms/step - loss: 0.1346 - val_loss: 0.0839\n",
            "Epoch 20/100\n",
            "1676/1676 [==============================] - 12s 7ms/step - loss: 0.1328 - val_loss: 0.0843\n",
            "Epoch 21/100\n",
            "1676/1676 [==============================] - 12s 7ms/step - loss: 0.1310 - val_loss: 0.0838\n",
            "Epoch 22/100\n",
            "1676/1676 [==============================] - 12s 7ms/step - loss: 0.1286 - val_loss: 0.0833\n",
            "Epoch 23/100\n",
            "1676/1676 [==============================] - 12s 7ms/step - loss: 0.1276 - val_loss: 0.0799\n",
            "Epoch 24/100\n",
            "1676/1676 [==============================] - 12s 7ms/step - loss: 0.1250 - val_loss: 0.0792\n",
            "Epoch 25/100\n",
            "1676/1676 [==============================] - 13s 8ms/step - loss: 0.1245 - val_loss: 0.0804\n",
            "Epoch 26/100\n",
            "1676/1676 [==============================] - 12s 7ms/step - loss: 0.1233 - val_loss: 0.0814\n",
            "Epoch 27/100\n",
            "1676/1676 [==============================] - 13s 7ms/step - loss: 0.1216 - val_loss: 0.0805\n",
            "Epoch 28/100\n",
            "1676/1676 [==============================] - 14s 8ms/step - loss: 0.1211 - val_loss: 0.0773\n",
            "Epoch 29/100\n",
            "1676/1676 [==============================] - 13s 8ms/step - loss: 0.1206 - val_loss: 0.0810\n",
            "Epoch 30/100\n",
            "1676/1676 [==============================] - 13s 8ms/step - loss: 0.1187 - val_loss: 0.0794\n",
            "Epoch 31/100\n",
            "1676/1676 [==============================] - 13s 8ms/step - loss: 0.1177 - val_loss: 0.0826\n",
            "Epoch 32/100\n",
            "1676/1676 [==============================] - 12s 7ms/step - loss: 0.1180 - val_loss: 0.0780\n",
            "Epoch 33/100\n",
            "1676/1676 [==============================] - 12s 7ms/step - loss: 0.1171 - val_loss: 0.0802\n",
            "Epoch 34/100\n",
            "1676/1676 [==============================] - 12s 7ms/step - loss: 0.1161 - val_loss: 0.0810\n",
            "Epoch 35/100\n",
            "1676/1676 [==============================] - 12s 7ms/step - loss: 0.1159 - val_loss: 0.0802\n",
            "Epoch 36/100\n",
            "1676/1676 [==============================] - 13s 8ms/step - loss: 0.1151 - val_loss: 0.0777\n",
            "Epoch 37/100\n",
            "1676/1676 [==============================] - 13s 8ms/step - loss: 0.1137 - val_loss: 0.0777\n",
            "Epoch 38/100\n",
            "1676/1676 [==============================] - 13s 8ms/step - loss: 0.1128 - val_loss: 0.0787\n",
            "Epoch 39/100\n",
            "1676/1676 [==============================] - 12s 7ms/step - loss: 0.1128 - val_loss: 0.0777\n",
            "Epoch 40/100\n",
            "1676/1676 [==============================] - 12s 7ms/step - loss: 0.1127 - val_loss: 0.0803\n",
            "Epoch 41/100\n",
            "1676/1676 [==============================] - 12s 7ms/step - loss: 0.1119 - val_loss: 0.0792\n",
            "Epoch 42/100\n",
            "1676/1676 [==============================] - 13s 8ms/step - loss: 0.1119 - val_loss: 0.0816\n",
            "Epoch 43/100\n",
            "1676/1676 [==============================] - 13s 7ms/step - loss: 0.1114 - val_loss: 0.0810\n",
            "Epoch 44/100\n",
            "1676/1676 [==============================] - 12s 7ms/step - loss: 0.1104 - val_loss: 0.0788\n",
            "Epoch 45/100\n",
            "1676/1676 [==============================] - 13s 8ms/step - loss: 0.1104 - val_loss: 0.0834\n",
            "Epoch 46/100\n",
            "1676/1676 [==============================] - 13s 8ms/step - loss: 0.1096 - val_loss: 0.0785\n",
            "Epoch 47/100\n",
            "1676/1676 [==============================] - 12s 7ms/step - loss: 0.1092 - val_loss: 0.0800\n",
            "Epoch 48/100\n",
            "1676/1676 [==============================] - 13s 8ms/step - loss: 0.1077 - val_loss: 0.0803\n",
            "Epoch 49/100\n",
            "1676/1676 [==============================] - 12s 7ms/step - loss: 0.1081 - val_loss: 0.0793\n",
            "Epoch 50/100\n",
            "1676/1676 [==============================] - 14s 8ms/step - loss: 0.1076 - val_loss: 0.0774\n",
            "Epoch 51/100\n",
            "1676/1676 [==============================] - 13s 8ms/step - loss: 0.1076 - val_loss: 0.0807\n",
            "Epoch 52/100\n",
            "1676/1676 [==============================] - 12s 7ms/step - loss: 0.1064 - val_loss: 0.0793\n",
            "Epoch 53/100\n",
            "1676/1676 [==============================] - 12s 7ms/step - loss: 0.1062 - val_loss: 0.0776\n",
            "Epoch 54/100\n",
            "1676/1676 [==============================] - 12s 7ms/step - loss: 0.1061 - val_loss: 0.0808\n",
            "Epoch 55/100\n",
            "1676/1676 [==============================] - 12s 7ms/step - loss: 0.1052 - val_loss: 0.0816\n",
            "Epoch 56/100\n",
            "1676/1676 [==============================] - 13s 8ms/step - loss: 0.1048 - val_loss: 0.0770\n",
            "Epoch 57/100\n",
            "1676/1676 [==============================] - 12s 7ms/step - loss: 0.1056 - val_loss: 0.0807\n",
            "Epoch 58/100\n",
            "1676/1676 [==============================] - 13s 8ms/step - loss: 0.1043 - val_loss: 0.0768\n",
            "Epoch 59/100\n",
            "1676/1676 [==============================] - 14s 8ms/step - loss: 0.1049 - val_loss: 0.0781\n",
            "Epoch 60/100\n",
            "1676/1676 [==============================] - 18s 11ms/step - loss: 0.1034 - val_loss: 0.0762\n",
            "Epoch 61/100\n",
            "1676/1676 [==============================] - 13s 8ms/step - loss: 0.1028 - val_loss: 0.0781\n",
            "Epoch 62/100\n",
            "1676/1676 [==============================] - 12s 7ms/step - loss: 0.1030 - val_loss: 0.0801\n",
            "Epoch 63/100\n",
            "1676/1676 [==============================] - 13s 8ms/step - loss: 0.1025 - val_loss: 0.0791\n",
            "Epoch 64/100\n",
            "1676/1676 [==============================] - 13s 8ms/step - loss: 0.1024 - val_loss: 0.0791\n",
            "Epoch 65/100\n",
            "1676/1676 [==============================] - 12s 7ms/step - loss: 0.1026 - val_loss: 0.0809\n",
            "Epoch 66/100\n",
            "1676/1676 [==============================] - 12s 7ms/step - loss: 0.1019 - val_loss: 0.0785\n",
            "Epoch 67/100\n",
            "1676/1676 [==============================] - 13s 8ms/step - loss: 0.1011 - val_loss: 0.0821\n",
            "Epoch 68/100\n",
            "1676/1676 [==============================] - 12s 7ms/step - loss: 0.1021 - val_loss: 0.0782\n",
            "Epoch 69/100\n",
            "1676/1676 [==============================] - 13s 8ms/step - loss: 0.1018 - val_loss: 0.0806\n",
            "Epoch 70/100\n",
            "1676/1676 [==============================] - 13s 8ms/step - loss: 0.1012 - val_loss: 0.0735\n",
            "Epoch 71/100\n",
            "1676/1676 [==============================] - 12s 7ms/step - loss: 0.1014 - val_loss: 0.0792\n",
            "Epoch 72/100\n",
            "1676/1676 [==============================] - 12s 7ms/step - loss: 0.0999 - val_loss: 0.0775\n",
            "Epoch 73/100\n",
            "1676/1676 [==============================] - 13s 8ms/step - loss: 0.1001 - val_loss: 0.0764\n",
            "Epoch 74/100\n",
            "1676/1676 [==============================] - 12s 7ms/step - loss: 0.0996 - val_loss: 0.0760\n",
            "Epoch 75/100\n",
            "1676/1676 [==============================] - 12s 7ms/step - loss: 0.0991 - val_loss: 0.0822\n",
            "Epoch 76/100\n",
            "1676/1676 [==============================] - 12s 7ms/step - loss: 0.0984 - val_loss: 0.0774\n",
            "Epoch 77/100\n",
            "1676/1676 [==============================] - 13s 8ms/step - loss: 0.0988 - val_loss: 0.0794\n",
            "Epoch 78/100\n",
            "1676/1676 [==============================] - 12s 7ms/step - loss: 0.0984 - val_loss: 0.0793\n",
            "Epoch 79/100\n",
            "1676/1676 [==============================] - 13s 8ms/step - loss: 0.0983 - val_loss: 0.0755\n",
            "Epoch 80/100\n",
            "1676/1676 [==============================] - 13s 8ms/step - loss: 0.0981 - val_loss: 0.0808\n",
            "Epoch 81/100\n",
            "1676/1676 [==============================] - 12s 7ms/step - loss: 0.0975 - val_loss: 0.0793\n",
            "Epoch 82/100\n",
            "1676/1676 [==============================] - 13s 8ms/step - loss: 0.0968 - val_loss: 0.0823\n",
            "Epoch 83/100\n",
            "1676/1676 [==============================] - 12s 7ms/step - loss: 0.0971 - val_loss: 0.0789\n",
            "Epoch 84/100\n",
            "1676/1676 [==============================] - 12s 7ms/step - loss: 0.0966 - val_loss: 0.0801\n",
            "Epoch 85/100\n",
            "1676/1676 [==============================] - 14s 8ms/step - loss: 0.0968 - val_loss: 0.0826\n",
            "Epoch 86/100\n",
            "1676/1676 [==============================] - 13s 8ms/step - loss: 0.0968 - val_loss: 0.0776\n",
            "Epoch 87/100\n",
            "1676/1676 [==============================] - 12s 7ms/step - loss: 0.0970 - val_loss: 0.0812\n",
            "Epoch 88/100\n",
            "1676/1676 [==============================] - 13s 8ms/step - loss: 0.0965 - val_loss: 0.0791\n",
            "Epoch 89/100\n",
            "1676/1676 [==============================] - 13s 8ms/step - loss: 0.0958 - val_loss: 0.0808\n",
            "Epoch 90/100\n",
            "1676/1676 [==============================] - 12s 7ms/step - loss: 0.0955 - val_loss: 0.0839\n",
            "Epoch 91/100\n",
            "1676/1676 [==============================] - 12s 7ms/step - loss: 0.0949 - val_loss: 0.0794\n",
            "Epoch 92/100\n",
            "1676/1676 [==============================] - 13s 8ms/step - loss: 0.0957 - val_loss: 0.0847\n",
            "Epoch 93/100\n",
            "1676/1676 [==============================] - 12s 7ms/step - loss: 0.0959 - val_loss: 0.0836\n",
            "Epoch 94/100\n",
            "1676/1676 [==============================] - 13s 8ms/step - loss: 0.0951 - val_loss: 0.0821\n",
            "Epoch 95/100\n",
            "1676/1676 [==============================] - 13s 8ms/step - loss: 0.0946 - val_loss: 0.0802\n",
            "Epoch 96/100\n",
            "1676/1676 [==============================] - 13s 8ms/step - loss: 0.0940 - val_loss: 0.0802\n",
            "Epoch 97/100\n",
            "1676/1676 [==============================] - 13s 8ms/step - loss: 0.0944 - val_loss: 0.0886\n",
            "Epoch 98/100\n",
            "1676/1676 [==============================] - 13s 8ms/step - loss: 0.0939 - val_loss: 0.0838\n",
            "Epoch 99/100\n",
            "1676/1676 [==============================] - 12s 7ms/step - loss: 0.0945 - val_loss: 0.0814\n",
            "Epoch 100/100\n",
            "1676/1676 [==============================] - 13s 8ms/step - loss: 0.0932 - val_loss: 0.0815\n"
          ]
        }
      ]
    },
    {
      "cell_type": "code",
      "source": [
        "plt.plot(lstm_autoencoder_history['loss'], linewidth=2, label='Train')\n",
        "plt.plot(lstm_autoencoder_history['val_loss'], linewidth=2, label='Valid')\n",
        "plt.legend(loc='upper right')\n",
        "plt.title('Model loss')\n",
        "plt.ylabel('Loss')\n",
        "plt.xlabel('Epoch')\n",
        "plt.show()"
      ],
      "metadata": {
        "id": "ezGrYrXbs4nO",
        "colab": {
          "base_uri": "https://localhost:8080/",
          "height": 295
        },
        "outputId": "0689e075-797d-4d22-82fe-b7c493f0b4bc"
      },
      "execution_count": null,
      "outputs": [
        {
          "output_type": "display_data",
          "data": {
            "text/plain": [
              "<Figure size 432x288 with 1 Axes>"
            ],
            "image/png": "[encoded data removed]"
          },
          "metadata": {
            "needs_background": "light"
          }
        }
      ]
    },
    {
      "cell_type": "code",
      "source": [
        "valid_x_predictions = lstm_autoencoder.predict(X_valid_scaled)\n",
        "mse = np.mean(np.power(flatten(X_valid_scaled) - flatten(valid_x_predictions), 2), axis=1)\n",
        "\n",
        "error_df_valid = pd.DataFrame({'Reconstruction_error': mse,\n",
        "                        'True_class': y_valid.tolist()})\n",
        "\n",
        "precision_rt, recall_rt, threshold_rt = precision_recall_curve(error_df_valid.True_class, error_df_valid.Reconstruction_error)\n",
        "plt.plot(threshold_rt, precision_rt[1:], label=\"Precision\",linewidth=5)\n",
        "plt.plot(threshold_rt, recall_rt[1:], label=\"Recall\",linewidth=5)\n",
        "plt.title('Precision and recall for different threshold values')\n",
        "plt.xlabel('Threshold')\n",
        "plt.ylabel('Precision/Recall')\n",
        "plt.legend()\n",
        "plt.show()"
      ],
      "metadata": {
        "id": "XPtgtoXotmIg",
        "colab": {
          "base_uri": "https://localhost:8080/",
          "height": 313
        },
        "outputId": "39b56d8d-1778-4a72-ce48-107b9d77bdce"
      },
      "execution_count": null,
      "outputs": [
        {
          "output_type": "stream",
          "name": "stdout",
          "text": [
            "386/386 [==============================] - 1s 2ms/step\n"
          ]
        },
        {
          "output_type": "display_data",
          "data": {
            "text/plain": [
              "<Figure size 432x288 with 1 Axes>"
            ],
            "image/png": "[encoded data removed]"
          },
          "metadata": {
            "needs_background": "light"
          }
        }
      ]
    },
    {
      "cell_type": "code",
      "source": [
        "error_df_valid.loc[:, \"Reconstruction_error\"].hist(bins=100, range=[0, 0.5])"
      ],
      "metadata": {
        "id": "T1gAwGBpvRpA",
        "colab": {
          "base_uri": "https://localhost:8080/",
          "height": 283
        },
        "outputId": "31167693-edf5-4c98-e1af-6247e55b0597"
      },
      "execution_count": null,
      "outputs": [
        {
          "output_type": "execute_result",
          "data": {
            "text/plain": [
              "<matplotlib.axes._subplots.AxesSubplot at 0x7f8c09b0e3d0>"
            ]
          },
          "metadata": {},
          "execution_count": 25
        },
        {
          "output_type": "display_data",
          "data": {
            "text/plain": [
              "<Figure size 432x288 with 1 Axes>"
            ],
            "image/png": "[encoded data removed]"
          },
          "metadata": {
            "needs_background": "light"
          }
        }
      ]
    },
    {
      "cell_type": "code",
      "source": [
        "# predict normal data, get costruction error for normal data, choose a quantile as threshold\n",
        "threshold = error_df_valid.loc[:, \"Reconstruction_error\"].quantile(0.8)\n",
        "print(f\"thrshold: {threshold}\")"
      ],
      "metadata": {
        "id": "Kuks2a5Fvlpw",
        "colab": {
          "base_uri": "https://localhost:8080/"
        },
        "outputId": "67d890c5-1b9c-4cdf-f9cf-cb6db630250c"
      },
      "execution_count": null,
      "outputs": [
        {
          "output_type": "stream",
          "name": "stdout",
          "text": [
            "thrshold: 0.1106268605367072\n"
          ]
        }
      ]
    },
    {
      "cell_type": "code",
      "source": [
        "test_x_predictions = lstm_autoencoder.predict(X_test_scaled)\n",
        "mse = np.mean(np.power(flatten(X_test_scaled) - flatten(test_x_predictions), 2), axis=1)\n",
        "\n",
        "error_df = pd.DataFrame({'Reconstruction_error': mse,\n",
        "                        'True_class': y_test.tolist()})\n",
        "\n",
        "# threshold_fixed = 0.3\n",
        "groups = error_df.groupby('True_class')\n",
        "fig, ax = plt.subplots()\n",
        "\n",
        "for name, group in groups:\n",
        "    ax.plot(group.index, group.Reconstruction_error, marker='o', ms=3.5, linestyle='',\n",
        "            label= \"1\" if name == 1 else \"0\")\n",
        "ax.hlines(threshold, ax.get_xlim()[0], ax.get_xlim()[1], colors=\"r\", zorder=100, label='Threshold')\n",
        "ax.legend()\n",
        "plt.title(\"Reconstruction error for different classes\")\n",
        "plt.ylabel(\"Reconstruction error\")\n",
        "plt.xlabel(\"Data point index\")\n",
        "plt.show();"
      ],
      "metadata": {
        "id": "MBFysflWtx-y",
        "colab": {
          "base_uri": "https://localhost:8080/",
          "height": 313
        },
        "outputId": "51d9daf4-20d7-4b64-a94e-9ac481f02ab0"
      },
      "execution_count": null,
      "outputs": [
        {
          "output_type": "stream",
          "name": "stdout",
          "text": [
            "551/551 [==============================] - 1s 2ms/step\n"
          ]
        },
        {
          "output_type": "display_data",
          "data": {
            "text/plain": [
              "<Figure size 432x288 with 1 Axes>"
            ],
            "image/png": "[encoded data removed]"
          },
          "metadata": {
            "needs_background": "light"
          }
        }
      ]
    },
    {
      "cell_type": "code",
      "source": [
        "pred_y = [1 if e > threshold else 0 for e in error_df.Reconstruction_error.values]\n",
        "conf_matrix = confusion_matrix(error_df.True_class, pred_y)\n",
        "\n",
        "plt.figure(figsize=(6, 6))\n",
        "sns.heatmap(conf_matrix, xticklabels=[0, 1], yticklabels=[0, 1], annot=True, fmt=\"d\");\n",
        "plt.title(\"Confusion matrix\")\n",
        "plt.ylabel('True class')\n",
        "plt.xlabel('Predicted class')\n",
        "plt.show()"
      ],
      "metadata": {
        "id": "GbORfLN0t1X6",
        "colab": {
          "base_uri": "https://localhost:8080/",
          "height": 404
        },
        "outputId": "fc0b0756-cbf5-4daf-843d-554044ecf433"
      },
      "execution_count": null,
      "outputs": [
        {
          "output_type": "display_data",
          "data": {
            "text/plain": [
              "<Figure size 432x432 with 2 Axes>"
            ],
            "image/png": "[encoded data removed]"
          },
          "metadata": {
            "needs_background": "light"
          }
        }
      ]
    },
    {
      "cell_type": "code",
      "source": [
        "print(f\"true 0 rate: {(conf_matrix[0][0] / (conf_matrix[0][0] + conf_matrix[0][1])).round(3)}\\ntrue 1 rate: {(conf_matrix[1][1] / (conf_matrix[1][0] + conf_matrix[1][1])).round(3)}\")"
      ],
      "metadata": {
        "id": "2ZXWbL20wHNG",
        "colab": {
          "base_uri": "https://localhost:8080/"
        },
        "outputId": "b201ae3a-4e4c-4689-e82d-210516f16a02"
      },
      "execution_count": null,
      "outputs": [
        {
          "output_type": "stream",
          "name": "stdout",
          "text": [
            "true 0 rate: 0.843\n",
            "true 1 rate: 0.818\n"
          ]
        }
      ]
    },
    {
      "cell_type": "markdown",
      "source": [
        "# 1.temp"
      ],
      "metadata": {
        "id": "93XHL2RMtvpD"
      }
    },
    {
      "cell_type": "code",
      "source": [],
      "metadata": {
        "id": "o3pw4OTJt7no"
      },
      "execution_count": null,
      "outputs": []
    }
  ]
}